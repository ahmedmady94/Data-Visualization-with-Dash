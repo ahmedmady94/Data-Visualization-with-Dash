{
 "cells": [
  {
   "cell_type": "markdown",
   "id": "cd664b42",
   "metadata": {},
   "source": [
    "### Importing relevant packages"
   ]
  },
  {
   "cell_type": "code",
   "execution_count": 9,
   "id": "7f879ffb",
   "metadata": {},
   "outputs": [],
   "source": [
    "import dash\n",
    "from dash import html\n",
    "from dash import dcc\n",
    "import plotly.express as px\n",
    "import pandas as pd\n",
    "from dash.dependencies import Input,Output,State"
   ]
  },
  {
   "cell_type": "markdown",
   "id": "16a35c79",
   "metadata": {},
   "source": [
    "### Loading gapminder dataset"
   ]
  },
  {
   "cell_type": "code",
   "execution_count": 10,
   "id": "937c0be8",
   "metadata": {},
   "outputs": [
    {
     "data": {
      "text/html": [
       "<div>\n",
       "<style scoped>\n",
       "    .dataframe tbody tr th:only-of-type {\n",
       "        vertical-align: middle;\n",
       "    }\n",
       "\n",
       "    .dataframe tbody tr th {\n",
       "        vertical-align: top;\n",
       "    }\n",
       "\n",
       "    .dataframe thead th {\n",
       "        text-align: right;\n",
       "    }\n",
       "</style>\n",
       "<table border=\"1\" class=\"dataframe\">\n",
       "  <thead>\n",
       "    <tr style=\"text-align: right;\">\n",
       "      <th></th>\n",
       "      <th>country</th>\n",
       "      <th>continent</th>\n",
       "      <th>year</th>\n",
       "      <th>lifeExp</th>\n",
       "      <th>pop</th>\n",
       "      <th>gdpPercap</th>\n",
       "      <th>iso_alpha</th>\n",
       "      <th>iso_num</th>\n",
       "    </tr>\n",
       "  </thead>\n",
       "  <tbody>\n",
       "    <tr>\n",
       "      <th>0</th>\n",
       "      <td>Afghanistan</td>\n",
       "      <td>Asia</td>\n",
       "      <td>1952</td>\n",
       "      <td>28.801</td>\n",
       "      <td>8425333</td>\n",
       "      <td>779.445314</td>\n",
       "      <td>AFG</td>\n",
       "      <td>4</td>\n",
       "    </tr>\n",
       "    <tr>\n",
       "      <th>1</th>\n",
       "      <td>Afghanistan</td>\n",
       "      <td>Asia</td>\n",
       "      <td>1957</td>\n",
       "      <td>30.332</td>\n",
       "      <td>9240934</td>\n",
       "      <td>820.853030</td>\n",
       "      <td>AFG</td>\n",
       "      <td>4</td>\n",
       "    </tr>\n",
       "    <tr>\n",
       "      <th>2</th>\n",
       "      <td>Afghanistan</td>\n",
       "      <td>Asia</td>\n",
       "      <td>1962</td>\n",
       "      <td>31.997</td>\n",
       "      <td>10267083</td>\n",
       "      <td>853.100710</td>\n",
       "      <td>AFG</td>\n",
       "      <td>4</td>\n",
       "    </tr>\n",
       "    <tr>\n",
       "      <th>3</th>\n",
       "      <td>Afghanistan</td>\n",
       "      <td>Asia</td>\n",
       "      <td>1967</td>\n",
       "      <td>34.020</td>\n",
       "      <td>11537966</td>\n",
       "      <td>836.197138</td>\n",
       "      <td>AFG</td>\n",
       "      <td>4</td>\n",
       "    </tr>\n",
       "    <tr>\n",
       "      <th>4</th>\n",
       "      <td>Afghanistan</td>\n",
       "      <td>Asia</td>\n",
       "      <td>1972</td>\n",
       "      <td>36.088</td>\n",
       "      <td>13079460</td>\n",
       "      <td>739.981106</td>\n",
       "      <td>AFG</td>\n",
       "      <td>4</td>\n",
       "    </tr>\n",
       "  </tbody>\n",
       "</table>\n",
       "</div>"
      ],
      "text/plain": [
       "       country continent  year  lifeExp       pop   gdpPercap iso_alpha  \\\n",
       "0  Afghanistan      Asia  1952   28.801   8425333  779.445314       AFG   \n",
       "1  Afghanistan      Asia  1957   30.332   9240934  820.853030       AFG   \n",
       "2  Afghanistan      Asia  1962   31.997  10267083  853.100710       AFG   \n",
       "3  Afghanistan      Asia  1967   34.020  11537966  836.197138       AFG   \n",
       "4  Afghanistan      Asia  1972   36.088  13079460  739.981106       AFG   \n",
       "\n",
       "   iso_num  \n",
       "0        4  \n",
       "1        4  \n",
       "2        4  \n",
       "3        4  \n",
       "4        4  "
      ]
     },
     "execution_count": 10,
     "metadata": {},
     "output_type": "execute_result"
    }
   ],
   "source": [
    "df= px.data.gapminder()\n",
    "df.head()"
   ]
  },
  {
   "cell_type": "markdown",
   "id": "aad9a6bc",
   "metadata": {},
   "source": [
    "### Creating the graphs using plotly\n",
    "#### Analyzing life expectancy vs gdp"
   ]
  },
  {
   "cell_type": "code",
   "execution_count": 11,
   "id": "21d50181",
   "metadata": {},
   "outputs": [],
   "source": [
    "fig1= px.scatter(\n",
    "           data_frame=df,\n",
    "           x='gdpPercap',\n",
    "           y='lifeExp',\n",
    "           size='pop',\n",
    "           color='continent',\n",
    "           size_max=80,\n",
    "           hover_name='country',\n",
    "           log_x=True,\n",
    "           title= 'lifeexp vs gdp',\n",
    "           symbol='continent',\n",
    "           animation_frame='year',\n",
    "           template='plotly_dark'   \n",
    "          )\n",
    "\n",
    "\n",
    "fig2= px.sunburst(\n",
    "            data_frame=df,\n",
    "            color='lifeExp',\n",
    "            values='pop',\n",
    "            path=['continent','country'],\n",
    "            hover_name='country',\n",
    "            height=600\n",
    "           )\n",
    "\n",
    "\n",
    "fig3= px.treemap(\n",
    "            df,\n",
    "            color='lifeExp',\n",
    "            values='pop',\n",
    "            path=['continent','country'],\n",
    "            hover_name='country',\n",
    "            height=600\n",
    "            )\n"
   ]
  },
  {
   "cell_type": "markdown",
   "id": "72a2e4ec",
   "metadata": {},
   "source": [
    "### Defining css file link"
   ]
  },
  {
   "cell_type": "code",
   "execution_count": 12,
   "id": "3ba0725f",
   "metadata": {},
   "outputs": [],
   "source": [
    "my_css_link = 'https://codepen.io/chriddyp/pen/bWLwgP.css'"
   ]
  },
  {
   "cell_type": "markdown",
   "id": "869345fb",
   "metadata": {},
   "source": [
    "### Initializing dash app"
   ]
  },
  {
   "cell_type": "code",
   "execution_count": 13,
   "id": "92d35804",
   "metadata": {},
   "outputs": [],
   "source": [
    "app=dash.Dash(external_stylesheets=[my_css_link])\n",
    "\n",
    "app.layout= html.Div([\n",
    "    \n",
    "    \n",
    "    \n",
    "    \n",
    "    html.H1('Gap Minder Data Visualization',style={'textAlign':'center','color':'Blue'}),\n",
    "    html.Br(),\n",
    "    html.Hr(),\n",
    "    html.P('Dash',style={'background':'black','color':'white'}),\n",
    "\n",
    "    \n",
    "    \n",
    "    html.Div([\n",
    "        \n",
    "        \n",
    "### first figure   \n",
    "        \n",
    "    html.Div([\n",
    "        \n",
    "        html.H1('scatterplot'),\n",
    "        dcc.Graph(figure=fig1)\n",
    "    ],className='four columns'),\n",
    "        \n",
    "        \n",
    "        \n",
    "### second figure   \n",
    "     \n",
    "        \n",
    "    html.Div([\n",
    "        \n",
    "        html.H1('sunburst'),\n",
    "        dcc.Graph(figure=fig2)\n",
    "    ], className='four columns'),\n",
    "        \n",
    "        \n",
    "        \n",
    "        \n",
    "        \n",
    "### third figure   \n",
    "  \n",
    "        \n",
    "        \n",
    "   html.Div([\n",
    "        \n",
    "        html.H1('treemap'),\n",
    "        dcc.Graph(figure=fig3)\n",
    "    ], className='four columns')\n",
    "    \n",
    "    \n",
    "    \n",
    " \n",
    "    \n",
    "    \n",
    "    \n",
    "    ]) \n",
    "\n",
    "\n",
    "\n",
    "])\n",
    "\n",
    "\n"
   ]
  },
  {
   "cell_type": "markdown",
   "id": "e7ed0374",
   "metadata": {},
   "source": [
    "### Running the web app on the local host"
   ]
  },
  {
   "cell_type": "code",
   "execution_count": 14,
   "id": "50232d24",
   "metadata": {},
   "outputs": [
    {
     "name": "stdout",
     "output_type": "stream",
     "text": [
      "Dash is running on http://127.0.0.1:8050/\n",
      "\n",
      "Dash is running on http://127.0.0.1:8050/\n",
      "\n",
      " * Serving Flask app '__main__' (lazy loading)\n",
      " * Environment: production\n",
      "\u001b[31m   WARNING: This is a development server. Do not use it in a production deployment.\u001b[0m\n",
      "\u001b[2m   Use a production WSGI server instead.\u001b[0m\n",
      " * Debug mode: off\n"
     ]
    },
    {
     "name": "stderr",
     "output_type": "stream",
     "text": [
      " * Running on http://127.0.0.1:8050/ (Press CTRL+C to quit)\n",
      "127.0.0.1 - - [03/Oct/2021 20:21:59] \"GET / HTTP/1.1\" 200 -\n",
      "127.0.0.1 - - [03/Oct/2021 20:21:59] \"GET /_dash-layout HTTP/1.1\" 200 -\n",
      "127.0.0.1 - - [03/Oct/2021 20:21:59] \"GET /_dash-dependencies HTTP/1.1\" 200 -\n",
      "127.0.0.1 - - [03/Oct/2021 20:21:59] \"GET /_dash-component-suites/dash/dcc/async-graph.js HTTP/1.1\" 200 -\n",
      "127.0.0.1 - - [03/Oct/2021 20:21:59] \"GET /_dash-component-suites/dash/dcc/async-plotlyjs.js HTTP/1.1\" 200 -\n"
     ]
    }
   ],
   "source": [
    "app.run_server()"
   ]
  },
  {
   "cell_type": "code",
   "execution_count": null,
   "id": "f9793b87",
   "metadata": {},
   "outputs": [],
   "source": []
  }
 ],
 "metadata": {
  "kernelspec": {
   "display_name": "Python 3",
   "language": "python",
   "name": "python3"
  },
  "language_info": {
   "codemirror_mode": {
    "name": "ipython",
    "version": 3
   },
   "file_extension": ".py",
   "mimetype": "text/x-python",
   "name": "python",
   "nbconvert_exporter": "python",
   "pygments_lexer": "ipython3",
   "version": "3.9.2"
  }
 },
 "nbformat": 4,
 "nbformat_minor": 5
}
